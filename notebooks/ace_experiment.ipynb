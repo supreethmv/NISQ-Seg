{
 "cells": [
  {
   "cell_type": "code",
   "execution_count": null,
   "metadata": {},
   "outputs": [],
   "source": [
    "from src.graph_utils import *\n",
    "from src.ace import *\n",
    "import os\n",
    "import time"
   ]
  },
  {
   "cell_type": "code",
   "execution_count": null,
   "metadata": {},
   "outputs": [],
   "source": [
    "base_path = 'results/'\n",
    "\n",
    "n_shots = 65536\n",
    "\n",
    "optimization_iteration_count = 0\n",
    "\n",
    "start_layers = 1\n",
    "max_layers = 1\n",
    "initial_params_seed = 123\n",
    "scipy_optimizer_methods = [\"COBYLA\", \"Powell\", \"CG\", \"BFGS\", \"L-BFGS-B\", \"SLSQP\"]\n",
    "\n",
    "heights = [2,4,8]\n",
    "seeds = [111,222,333,444,555]"
   ]
  },
  {
   "cell_type": "code",
   "execution_count": null,
   "metadata": {},
   "outputs": [],
   "source": [
    "for seed in seeds:\n",
    "  report_filename = base_path + 'AncillaBasisStateEncoding_newCost_' +  str(seed) + '_' + str(n_shots) + '.txt'\n",
    "  for height in heights:\n",
    "    width = height\n",
    "    print(f'height: {height}, width: {width}, n: {height*width}')\n",
    "    np.random.seed(seed=seed)\n",
    "    G, image = generate_problem_instance(height, width)\n",
    "    print(\"Image Generated: \",image)\n",
    "    for scipy_optimizer_method in scipy_optimizer_methods:\n",
    "      print(\"Maximum number of layers :\", max_layers)\n",
    "      for n_layers in range(start_layers, max_layers+1,1):\n",
    "        best_cost = 1000000\n",
    "        best_cost_binary_solution = [0] * (height*width)\n",
    "        nc = len(G.nodes())\n",
    "        nr = ceil(log2(nc))\n",
    "        nq = nr + 1\n",
    "        initial_params = np.random.uniform(low=-np.pi, high=np.pi, size=nq*n_layers)\n",
    "        print(f\"Executing QC with {n_layers} layers and {scipy_optimizer_method} optimizer for {height}*{height} image.\")\n",
    "        # try:\n",
    "        start_time = time.time()\n",
    "        success_flag, minimal_encoding_solution, minimal_encoding_value, minimal_encoding_cut_value = adaptive_cost_encoding_de(G,\n",
    "                                                                                                                         initial_params,\n",
    "                                                                                                                         n_layers = n_layers,\n",
    "                                                                                                                         optimizer_method = scipy_optimizer_method)\n",
    "        minimal_encoding_tte = (time.time() - start_time)\n",
    "        print(\"New NISQ done for\",scipy_optimizer_method,\"optimizer with a success status :\", success_flag)\n",
    "        print(f\"Appending the results of {height}*{height} image using QC with {n_layers} layers and {scipy_optimizer_method} optimizer.\")\n",
    "        row = []\n",
    "        row.append(int(G.number_of_nodes()))\n",
    "        row.append(int(height))\n",
    "        row.append(int(width))\n",
    "        row.append(success_flag)\n",
    "        row.append(''.join(map(str, map(int, (minimal_encoding_solution)))))\n",
    "        row.append(np.round(minimal_encoding_tte,6))\n",
    "        row.append(n_layers)\n",
    "        row.append(np.round(minimal_encoding_cut_value,4))\n",
    "        row.append(np.round(minimal_encoding_value,4))\n",
    "        row.append(optimization_iteration_count)\n",
    "        row.append(scipy_optimizer_method)\n",
    "        report_file_obj = open(os.path.join(report_filename),'a+')\n",
    "        report_file_obj.write('__'.join(map(str,row))+'\\n')\n",
    "        report_file_obj.close()\n",
    "    print('\\n')"
   ]
  }
 ],
 "metadata": {
  "language_info": {
   "name": "python"
  }
 },
 "nbformat": 4,
 "nbformat_minor": 2
}
