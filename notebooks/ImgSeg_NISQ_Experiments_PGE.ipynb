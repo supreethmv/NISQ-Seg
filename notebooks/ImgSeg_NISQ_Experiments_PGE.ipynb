{
  "cells": [
    {
      "cell_type": "markdown",
      "metadata": {
        "id": "etaCXXCaEX1h"
      },
      "source": [
        "### Install dependencies"
      ]
    },
    {
      "cell_type": "code",
      "execution_count": 1,
      "metadata": {
        "colab": {
          "base_uri": "https://localhost:8080/"
        },
        "id": "yRE9LAx4s4bi",
        "outputId": "7cb5be99-a71d-41a6-f4f0-e7ca64fb6394"
      },
      "outputs": [],
      "source": [
        "# !pip install qiskit"
      ]
    },
    {
      "cell_type": "code",
      "execution_count": 2,
      "metadata": {
        "colab": {
          "base_uri": "https://localhost:8080/"
        },
        "id": "_oGVLr0J783O",
        "outputId": "b2b1be81-e986-4771-e3a6-5c996cbf3f23"
      },
      "outputs": [],
      "source": [
        "# !pip install qiskit_algorithms"
      ]
    },
    {
      "cell_type": "code",
      "execution_count": 3,
      "metadata": {
        "colab": {
          "base_uri": "https://localhost:8080/"
        },
        "id": "6wMuyPtOveUd",
        "outputId": "e015ef05-276e-4ccc-a840-ad3b99f99858"
      },
      "outputs": [],
      "source": [
        "# !pip install qiskit_optimization"
      ]
    },
    {
      "cell_type": "code",
      "execution_count": 4,
      "metadata": {},
      "outputs": [],
      "source": [
        "# ! pip install qiskit-aer"
      ]
    },
    {
      "cell_type": "code",
      "execution_count": 5,
      "metadata": {
        "colab": {
          "base_uri": "https://localhost:8080/"
        },
        "id": "4GvybWE1ABIo",
        "outputId": "2633e52d-c4b8-456c-d96f-37418df25737"
      },
      "outputs": [],
      "source": [
        "# !pip install pylatexenc"
      ]
    },
    {
      "cell_type": "code",
      "execution_count": 6,
      "metadata": {
        "colab": {
          "base_uri": "https://localhost:8080/"
        },
        "id": "_tG7tOzJrBPp",
        "outputId": "f890920a-3dd9-46e6-9cd9-489a038c9b68"
      },
      "outputs": [],
      "source": [
        "# !pip install gurobipy"
      ]
    },
    {
      "cell_type": "code",
      "execution_count": 7,
      "metadata": {
        "colab": {
          "base_uri": "https://localhost:8080/"
        },
        "id": "pX28T4NMrHQY",
        "outputId": "0d583a7f-6b9b-4a62-f36d-cde9c43a48c4"
      },
      "outputs": [],
      "source": [
        "# !pip install deap"
      ]
    },
    {
      "cell_type": "code",
      "execution_count": 8,
      "metadata": {
        "id": "WdVuL-pRn5Dc"
      },
      "outputs": [],
      "source": [
        "# ! python -m pip install --upgrade pip"
      ]
    },
    {
      "cell_type": "code",
      "execution_count": null,
      "metadata": {},
      "outputs": [],
      "source": []
    },
    {
      "cell_type": "code",
      "execution_count": null,
      "metadata": {},
      "outputs": [],
      "source": []
    },
    {
      "cell_type": "code",
      "execution_count": 9,
      "metadata": {
        "id": "pz-LxpTkcNBZ"
      },
      "outputs": [],
      "source": [
        "# !pip install dwave-ocean-sdk"
      ]
    },
    {
      "cell_type": "code",
      "execution_count": 10,
      "metadata": {
        "id": "PPI2YbzMa6En"
      },
      "outputs": [],
      "source": [
        "# !pip install dimod"
      ]
    },
    {
      "cell_type": "code",
      "execution_count": 11,
      "metadata": {
        "id": "gHHL9uIcxjJL"
      },
      "outputs": [],
      "source": [
        "# !pip install qiskit-aqua"
      ]
    },
    {
      "cell_type": "code",
      "execution_count": 12,
      "metadata": {
        "id": "K-cQfU8vw0zP"
      },
      "outputs": [],
      "source": [
        "# !pip install pennylane"
      ]
    },
    {
      "cell_type": "markdown",
      "metadata": {
        "id": "FIIH27AZERXD"
      },
      "source": [
        "### Import dependencies"
      ]
    },
    {
      "cell_type": "code",
      "execution_count": 14,
      "metadata": {
        "id": "sU_vbxu6utT7"
      },
      "outputs": [],
      "source": [
        "# useful additional packages\n",
        "\n",
        "from qiskit.circuit.library import Diagonal\n",
        "from qiskit import QuantumCircuit\n",
        "\n",
        "\n",
        "import matplotlib.pyplot as plt\n",
        "import numpy as np\n",
        "import pandas as pd\n",
        "import networkx as nx\n",
        "import os\n",
        "\n",
        "\n",
        "from qiskit_optimization.applications import Maxcut\n",
        "from qiskit_optimization.algorithms import MinimumEigenOptimizer\n",
        "\n",
        "\n",
        "from qiskit.primitives import Sampler\n",
        "\n",
        "from qiskit.result import QuasiDistribution\n",
        "\n",
        "\n",
        "from scipy.optimize import minimize\n",
        "import time"
      ]
    },
    {
      "cell_type": "code",
      "execution_count": 15,
      "metadata": {
        "id": "Lb74KYPdbG7s"
      },
      "outputs": [],
      "source": [
        "# UPDATED MODULES\n",
        "\n",
        "from qiskit_algorithms.minimum_eigensolvers import QAOA, NumPyMinimumEigensolver\n",
        "from qiskit_algorithms.optimizers import COBYLA\n",
        "\n",
        "from qiskit.quantum_info import SparsePauliOp\n",
        "from qiskit.primitives import Estimator\n",
        "\n",
        "from qiskit_algorithms.utils import algorithm_globals\n"
      ]
    },
    {
      "cell_type": "code",
      "execution_count": 16,
      "metadata": {
        "id": "3LLhsQQ5rUCe"
      },
      "outputs": [],
      "source": [
        "import gurobipy as gp\n",
        "from gurobipy import GRB"
      ]
    },
    {
      "cell_type": "code",
      "execution_count": 17,
      "metadata": {
        "id": "p-dJsy5Yn9Tm"
      },
      "outputs": [],
      "source": [
        "from deap import base, creator, tools, algorithms"
      ]
    },
    {
      "cell_type": "code",
      "execution_count": 18,
      "metadata": {
        "id": "8iDrI306n_yo"
      },
      "outputs": [],
      "source": [
        "import random"
      ]
    },
    {
      "cell_type": "markdown",
      "metadata": {
        "id": "DoHRSsmvPD4y"
      },
      "source": [
        "## Experiments"
      ]
    },
    {
      "cell_type": "markdown",
      "metadata": {
        "id": "9oXP6la6icxT"
      },
      "source": [
        "#### Generate Problem Instance"
      ]
    },
    {
      "cell_type": "code",
      "execution_count": 28,
      "metadata": {
        "id": "EsekSYAaBBCX"
      },
      "outputs": [],
      "source": [
        "def image_to_grid_graph(gray_img, sigma=0.5):\n",
        "  h, w = gray_img.shape\n",
        "  # Initialize graph nodes and edges\n",
        "  nodes = np.zeros((h*w, 1))\n",
        "  edges = []\n",
        "  nx_elist = []\n",
        "  # Compute node potentials and edge weights\n",
        "  min_weight = 1\n",
        "  max_weight = 0\n",
        "  for i in range(h*w):\n",
        "    x, y = i//w, i%w\n",
        "    nodes[i] = gray_img[x,y]\n",
        "    if x > 0:\n",
        "      j = (x-1)*w + y\n",
        "      weight = 1-np.exp(-((gray_img[x,y] - gray_img[x-1,y])**2) / (2 * sigma**2))\n",
        "      edges.append((i, j, weight))\n",
        "      nx_elist.append(((x,y),(x-1,y),np.round(weight,2)))\n",
        "      if min_weight>weight:min_weight=weight\n",
        "      if max_weight<weight:max_weight=weight\n",
        "    if y > 0:\n",
        "      j = x*w + y-1\n",
        "      weight = 1-np.exp(-((gray_img[x,y] - gray_img[x,y-1])**2) / (2 * sigma**2))\n",
        "      edges.append((i, j, weight))\n",
        "      nx_elist.append(((x,y),(x,y-1),np.round(weight,2)))\n",
        "      if min_weight>weight:min_weight=weight\n",
        "      if max_weight<weight:max_weight=weight\n",
        "  a=-1\n",
        "  b=1\n",
        "  if max_weight-min_weight:\n",
        "    normalized_edges = [(node1,node2,-1*np.round(((b-a)*((edge_weight-min_weight)/(max_weight-min_weight)))+a,2)) for node1,node2,edge_weight in edges]\n",
        "    normalized_nx_elist = [(node1,node2,-1*np.round(((b-a)*((edge_weight-min_weight)/(max_weight-min_weight)))+a,2)) for node1,node2,edge_weight in nx_elist]\n",
        "  else:\n",
        "    normalized_edges = [(node1,node2,-1*np.round(edge_weight,2)) for node1,node2,edge_weight in edges]\n",
        "    normalized_nx_elist = [(node1,node2,-1*np.round(edge_weight,2)) for node1,node2,edge_weight in nx_elist]\n",
        "  return nodes, edges, nx_elist, normalized_edges, normalized_nx_elist"
      ]
    },
    {
      "cell_type": "code",
      "execution_count": 30,
      "metadata": {
        "id": "2ECpvLfdAPkY"
      },
      "outputs": [],
      "source": [
        "def generate_problem_instance(height,width):\n",
        "  image = np.random.rand(height,width)\n",
        "  pixel_values, elist, nx_elist, normalized_elist, normalized_nx_elist = image_to_grid_graph(image)\n",
        "  G = nx.grid_2d_graph(image.shape[0], image.shape[1])\n",
        "  G.add_weighted_edges_from(normalized_nx_elist)\n",
        "  return G, image"
      ]
    },
    {
      "cell_type": "code",
      "execution_count": 31,
      "metadata": {
        "id": "QTzrHgIF7bcv"
      },
      "outputs": [],
      "source": [
        "def generate_binary_problem_instance(height,width):\n",
        "  image = np.random.rand(height,width)\n",
        "  image[image < 0.5] = 0\n",
        "  image[image >= 0.5] = 1\n",
        "  pixel_values, elist, nx_elist, normalized_elist, normalized_nx_elist = image_to_grid_graph(image)\n",
        "  G = nx.grid_2d_graph(image.shape[0], image.shape[1])\n",
        "  G.add_weighted_edges_from(normalized_nx_elist)\n",
        "  return G, image"
      ]
    },
    {
      "cell_type": "code",
      "execution_count": 35,
      "metadata": {
        "id": "n3ZeU7SWJeS0"
      },
      "outputs": [],
      "source": [
        "def draw(G, image):\n",
        "  pixel_values = image\n",
        "  plt.figure(figsize=(8,8))\n",
        "  default_axes = plt.axes(frameon=True)\n",
        "  pos = {(x,y):(y,-x) for x,y in G.nodes()}\n",
        "  nx.draw_networkx(G,\n",
        "                  pos=pos,\n",
        "                  node_color=1-pixel_values,\n",
        "                  with_labels=True,\n",
        "                  node_size=3000,\n",
        "                  cmap=plt.cm.Greys,\n",
        "                  alpha=0.8,\n",
        "                  ax=default_axes)\n",
        "  nodes = nx.draw_networkx_nodes(G, pos, node_color=1-pixel_values,\n",
        "                  node_size=3000,\n",
        "                  cmap=plt.cm.Greys)\n",
        "  nodes.set_edgecolor('k')\n",
        "  edge_labels = nx.get_edge_attributes(G, \"weight\")\n",
        "  nx.draw_networkx_edge_labels(G,\n",
        "                              pos=pos,\n",
        "                             edge_labels=edge_labels)"
      ]
    },
    {
      "cell_type": "markdown",
      "metadata": {
        "id": "oNJMb9PMiu1S"
      },
      "source": [
        "#### Parametric Gate Encoding (PGE)"
      ]
    },
    {
      "cell_type": "code",
      "execution_count": 37,
      "metadata": {
        "id": "R2cShEH_F_NP"
      },
      "outputs": [],
      "source": [
        "def R(theta):\n",
        "  if abs(theta) > 2*np.pi or abs(theta) < 0:\n",
        "    theta = abs(theta) - (np.floor(abs(theta)/(2*np.pi))*(2*np.pi))\n",
        "  return 0 if 0 <= theta < np.pi else 1\n",
        "\n",
        "def cost_fn(params, hermitian_observable):\n",
        "  global optimization_iteration_count\n",
        "  optimization_iteration_count += 1\n",
        "  N = int(np.log2(len(params)))\n",
        "  circuit_psi = QuantumCircuit(N)\n",
        "  for i in range(N):\n",
        "    circuit_psi.h(i)\n",
        "  diagonal_elements = [np.exp(1j * np.pi * R(param)) for param in params]\n",
        "  diag_gate = Diagonal(diagonal_elements)\n",
        "  circuit_psi.append(diag_gate, range(N))\n",
        "  op_observable = SparsePauliOp.from_operator(hermitian_observable)\n",
        "  cost = Estimator().run(circuit_psi, op_observable).result().values[0]\n",
        "  print(f'@ Iteration {optimization_iteration_count} Cost :',cost)\n",
        "  return cost\n",
        "\n",
        "def decode(optimal_params):\n",
        "  return [R(param) for param in optimal_params]\n",
        "\n",
        "\n",
        "def objective_value(x: np.ndarray, w: np.ndarray) -> float:\n",
        "    cost = 0\n",
        "    for i in range(len(x)):\n",
        "        for j in range(len(x)):\n",
        "            cost = cost + w[i,j]*x[i]*(1-x[j])\n",
        "    return cost"
      ]
    },
    {
      "cell_type": "code",
      "execution_count": 38,
      "metadata": {
        "id": "WRYhybg31Xkf"
      },
      "outputs": [],
      "source": [
        "def new_nisq_ga_solver2(G, population_size=50, crossover_probability=0.7, mutation_probability=0.2, number_of_generations=50):\n",
        "    n = G.number_of_nodes()\n",
        "    w = nx.adjacency_matrix(G).todense()\n",
        "    D_G = np.diag(list(dict(G.degree()).values()))\n",
        "    A_G = w\n",
        "    L_G = D_G - A_G\n",
        "    n_padding = (2**int(np.ceil(np.log2(n))) - n)\n",
        "    L_G = np.pad(L_G, [(0, n_padding), (0, n_padding)], mode='constant')\n",
        "    H = L_G\n",
        "\n",
        "    # Genetic Algorithm Setup\n",
        "    creator.create(\"FitnessMin\", base.Fitness, weights=(-1.0,))\n",
        "    creator.create(\"Individual\", list, fitness=creator.FitnessMin)\n",
        "\n",
        "    toolbox = base.Toolbox()\n",
        "    toolbox.register(\"attr_float\", random.uniform, 0.5, 2*np.pi)\n",
        "    toolbox.register(\"individual\", tools.initRepeat, creator.Individual, toolbox.attr_float, n)\n",
        "    toolbox.register(\"population\", tools.initRepeat, list, toolbox.individual)\n",
        "\n",
        "    # Evaluate function with padding\n",
        "    def evaluate_with_padding(individual):\n",
        "        padded_individual = individual + [0] * n_padding  # Append constant values for padding\n",
        "        return cost_fn(padded_individual, H),\n",
        "\n",
        "    toolbox.register(\"evaluate\", evaluate_with_padding)\n",
        "    toolbox.register(\"mate\", tools.cxTwoPoint)\n",
        "    toolbox.register(\"mutate\", tools.mutGaussian, mu=0, sigma=1, indpb=0.1)\n",
        "    toolbox.register(\"select\", tools.selTournament, tournsize=3)\n",
        "\n",
        "    # Run Genetic Algorithm\n",
        "    population = toolbox.population(n=population_size)\n",
        "    algorithms.eaSimple(population, toolbox, cxpb=crossover_probability, mutpb=mutation_probability, ngen=number_of_generations, verbose=False)\n",
        "\n",
        "    # Extract the best solution\n",
        "    best_ind = tools.selBest(population, 1)[0]\n",
        "    optimal_params = best_ind + [0] * n_padding  # Append constant values for padding\n",
        "    expectation_value = best_ind.fitness.values[0]\n",
        "\n",
        "    # Decode and calculate cut value\n",
        "    x = np.real(decode(optimal_params))\n",
        "    x = x[:n]\n",
        "    cut_value = objective_value(x, w)\n",
        "\n",
        "    return x, expectation_value, cut_value\n"
      ]
    },
    {
      "cell_type": "code",
      "execution_count": null,
      "metadata": {},
      "outputs": [],
      "source": []
    },
    {
      "cell_type": "code",
      "execution_count": 39,
      "metadata": {
        "id": "KQ7-zs4s3ec9"
      },
      "outputs": [],
      "source": [
        "def new_nisq_algo_solver(G, optimizer_method = 'Genetic', initial_params_seed=123):\n",
        "  global optimization_iteration_count\n",
        "  optimization_iteration_count = 0\n",
        "  if optimizer_method == 'Genetic':\n",
        "    x, expectation_value, cut_value = new_nisq_ga_solver2(G,\n",
        "                                                         population_size = 50,\n",
        "                                                         crossover_probability = 0.7,\n",
        "                                                         mutation_probability = 0.2,\n",
        "                                                         number_of_generations = 50)\n",
        "    success_flag = True\n",
        "  else:\n",
        "    n = G.number_of_nodes()\n",
        "    w = nx.adjacency_matrix(G).todense()\n",
        "    D_G = np.diag(list(dict(G.degree()).values()))\n",
        "    A_G = w\n",
        "    L_G = D_G - A_G\n",
        "    n_padding = (2**int(np.ceil(np.log2(n)))-n)\n",
        "    L_G = np.pad(L_G, [(0, n_padding), (0, n_padding) ], mode='constant')\n",
        "    H = L_G\n",
        "    np.random.seed(seed=initial_params_seed)\n",
        "    initial_params = np.random.uniform(low=0.5, high=2*np.pi , size=(n+n_padding))\n",
        "\n",
        "    options = {}\n",
        "    result = minimize(\n",
        "        fun=cost_fn,\n",
        "        x0=initial_params,\n",
        "        args=H,\n",
        "        method=optimizer_method,\n",
        "        options=options)\n",
        "    \n",
        "    optimal_params, expectation_value = result.x, result.fun\n",
        "    x = np.real(decode(optimal_params))\n",
        "    x = x[:n]\n",
        "    cut_value = objective_value(x, w)\n",
        "    success_flag = result.success\n",
        "  return success_flag, x, expectation_value, cut_value"
      ]
    },
    {
      "cell_type": "markdown",
      "metadata": {},
      "source": [
        "#### Experiments for New NISQ"
      ]
    },
    {
      "cell_type": "code",
      "execution_count": 56,
      "metadata": {
        "id": "ocUzdcG3MlLx"
      },
      "outputs": [],
      "source": [
        "heights = [2,4,8]\n",
        "\n",
        "scipy_optimizer_methods = [\"COBYLA\", \"Powell\", \"CG\", \"BFGS\", \"L-BFGS-B\", \"SLSQP\", \"Genetic\"]\n",
        "\n",
        "initial_params_seed = 123\n",
        "\n",
        "optimization_iteration_count = 0\n",
        "\n",
        "base_path = 'results/'\n",
        "\n",
        "seeds = [111, 222,333,444,555]\n"
      ]
    },
    {
      "cell_type": "code",
      "execution_count": null,
      "metadata": {},
      "outputs": [],
      "source": [
        "\n",
        "for seed in seeds:\n",
        "  report_filename = base_path + 'ParameterEncoding_' +  str(seed) + '.txt'\n",
        "  for height in heights:\n",
        "    width = height\n",
        "    print(f'height: {height}, width: {width}, n: {height*width}')\n",
        "    np.random.seed(seed=seed)\n",
        "    G, image = generate_problem_instance(height, width)\n",
        "    print(\"Image Generated: \",image)\n",
        "    # plt.imshow(image, cmap=plt.cm.gray)\n",
        "    # plt.show()\n",
        "  \n",
        "    for optimizer_method in scipy_optimizer_methods:\n",
        "      print(f\"Executing QC with {optimizer_method} optimizer for {height}*{height} image.\")\n",
        "      try:\n",
        "        start_time = time.time()\n",
        "        success_flag, new_nisq_solution, new_nisq_expectation_value, new_nisq_cut_value = new_nisq_algo_solver(G, \n",
        "                                                                                                               optimizer_method = optimizer_method, \n",
        "                                                                                                               initial_params_seed=initial_params_seed)\n",
        "        new_nisq_tte = (time.time() - start_time)\n",
        "        print(new_nisq_solution, new_nisq_expectation_value, new_nisq_cut_value)\n",
        "      except:\n",
        "        print(f\"Execution Failed for {optimizer_method} optimizer for {height}*{height} image.\")\n",
        "        continue\n",
        "      print(\"New NISQ done for\",optimizer_method,\"optimizer with a success status :\", success_flag)\n",
        "      print(f\"Appending the results of {height}*{height} image using QC with and {optimizer_method} optimizer.\")\n",
        "      row = []\n",
        "      row.append(int(G.number_of_nodes()))\n",
        "      row.append(int(height))\n",
        "      row.append(int(width))\n",
        "      row.append(success_flag)\n",
        "      row.append(''.join(map(str, map(int, (new_nisq_solution)))))\n",
        "      row.append(np.round(new_nisq_tte,6))\n",
        "      row.append(np.round(new_nisq_cut_value,4))\n",
        "      row.append(np.round(new_nisq_expectation_value,4))\n",
        "      row.append(optimization_iteration_count)\n",
        "      row.append(optimizer_method)\n",
        "      report_file_obj = open(os.path.join(report_filename),'a+')\n",
        "      report_file_obj.write('__'.join(map(str,row))+'\\n')\n",
        "      report_file_obj.close()\n",
        "    print('\\n')"
      ]
    },
    {
      "cell_type": "code",
      "execution_count": null,
      "metadata": {},
      "outputs": [],
      "source": []
    }
  ],
  "metadata": {
    "colab": {
      "collapsed_sections": [
        "etaCXXCaEX1h",
        "FIIH27AZERXD",
        "-qstUcHjD16P",
        "9oXP6la6icxT",
        "2pPiM0ePig7A",
        "pePrU6XBikMV",
        "pAyb7qZ3iqzN",
        "X7JccFLY8tnr",
        "oNJMb9PMiu1S",
        "o1j3DrZFoaWG",
        "3TY83OitQNIm",
        "eR_WVGyZQQIE",
        "smXhk33Afk9L",
        "oCiGtxaIDp15"
      ],
      "provenance": []
    },
    "kernelspec": {
      "display_name": "Python 3",
      "name": "python3"
    },
    "language_info": {
      "codemirror_mode": {
        "name": "ipython",
        "version": 3
      },
      "file_extension": ".py",
      "mimetype": "text/x-python",
      "name": "python",
      "nbconvert_exporter": "python",
      "pygments_lexer": "ipython3",
      "version": "3.10.11"
    }
  },
  "nbformat": 4,
  "nbformat_minor": 0
}
