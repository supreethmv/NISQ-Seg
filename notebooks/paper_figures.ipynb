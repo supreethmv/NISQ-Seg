{
 "cells": [
  {
   "cell_type": "code",
   "execution_count": 3,
   "metadata": {},
   "outputs": [],
   "source": [
    "import matplotlib.pyplot as plt\n",
    "import numpy as np\n",
    "\n",
    "import networkx as nx"
   ]
  },
  {
   "cell_type": "code",
   "execution_count": 44,
   "metadata": {},
   "outputs": [
    {
     "data": {
      "image/png": "[encoded data removed]",
      "text/plain": [
       "<Figure size 640x480 with 1 Axes>"
      ]
     },
     "metadata": {},
     "output_type": "display_data"
    }
   ],
   "source": [
    "import matplotlib.pyplot as plt\n",
    "import numpy as np\n",
    "\n",
    "# Given data and parameters\n",
    "height, width = 2, 2\n",
    "image = np.array([\n",
    "    [0.92, 0.35],\n",
    "    [0.89, 0.45]\n",
    "])\n",
    "\n",
    "# Plot the image\n",
    "plt.imshow(image, interpolation='nearest', cmap=plt.cm.gray)\n",
    "plt.axis('off')\n",
    "\n",
    "# Annotate each pixel with its position\n",
    "for (i, j), val in np.ndenumerate(image):\n",
    "    plt.text(j, i, f'({i},{j})', ha='center', va='center', color='grey', fontsize=20)\n",
    "\n",
    "# Save the image with annotations\n",
    "plt.savefig(\"2x2_v2.jpg\", dpi=600, bbox_inches='tight', pad_inches=0)\n",
    "plt.show()\n"
   ]
  },
  {
   "cell_type": "code",
   "execution_count": 45,
   "metadata": {},
   "outputs": [],
   "source": [
    "# import matplotlib.pyplot as plt\n",
    "# import numpy as np\n",
    "\n",
    "# # Given data and parameters\n",
    "# height, width = 2, 2\n",
    "# image = np.array([\n",
    "#     [1, 0],\n",
    "#     [1, 0]\n",
    "# ])\n",
    "\n",
    "# # Plot the image\n",
    "# plt.imshow(image, interpolation='nearest', cmap=plt.cm.gray)\n",
    "# plt.axis('off')\n",
    "\n",
    "# # Annotate each pixel with its position\n",
    "# for (i, j), val in np.ndenumerate(image):\n",
    "#     plt.text(j, i, f'({i},{j})', ha='center', va='center', color='grey', fontsize=20)\n",
    "\n",
    "# # Save the image with annotations\n",
    "# plt.savefig(\"2x2_v2.jpg\", dpi=600, bbox_inches='tight', pad_inches=0)\n",
    "# plt.show()\n"
   ]
  },
  {
   "cell_type": "code",
   "execution_count": 46,
   "metadata": {},
   "outputs": [
    {
     "data": {
      "text/plain": [
       "(array([[0.92],\n",
       "        [0.35],\n",
       "        [0.89],\n",
       "        [0.45]]),\n",
       " [(1, 0, 0.47784980364202023),\n",
       "  (2, 0, 0.0017983809715627075),\n",
       "  (3, 1, 0.019801326693244747),\n",
       "  (3, 2, 0.32104470971143206)],\n",
       " [((0, 1), (0, 0), 0.48),\n",
       "  ((1, 0), (0, 0), 0.0),\n",
       "  ((1, 1), (0, 1), 0.02),\n",
       "  ((1, 1), (1, 0), 0.32)],\n",
       " [(1, 0, -0.11), (2, 0, 1.0), (3, 1, 0.95), (3, 2, 0.26)],\n",
       " [((0, 1), (0, 0), -0.11),\n",
       "  ((1, 0), (0, 0), 1.0),\n",
       "  ((1, 1), (0, 1), 0.95),\n",
       "  ((1, 1), (1, 0), 0.26)])"
      ]
     },
     "execution_count": 46,
     "metadata": {},
     "output_type": "execute_result"
    }
   ],
   "source": [
    "def image_to_grid_graph(gray_img, sigma=0.5):\n",
    "  # Convert image to grayscale\n",
    "  # gray_img = np.dot(img, [0.2989, 0.5870, 0.1140])\n",
    "  h, w = gray_img.shape\n",
    "  # Initialize graph nodes and edges\n",
    "  nodes = np.zeros((h*w, 1))\n",
    "  edges = []\n",
    "  nx_elist = []\n",
    "  # Compute node potentials and edge weights\n",
    "  min_weight = 1\n",
    "  max_weight = 0\n",
    "  for i in range(h*w):\n",
    "    x, y = i//w, i%w\n",
    "    nodes[i] = gray_img[x,y]\n",
    "    if x > 0:\n",
    "      j = (x-1)*w + y\n",
    "      # weight = np.exp(-dist.euclidean([gray_img[x,y]], [gray_img[x-1,y]])**2 / (2*sigma**2))\n",
    "      weight = 1-np.exp(-((gray_img[x,y] - gray_img[x-1,y])**2) / (2 * sigma**2))\n",
    "      edges.append((i, j, weight))\n",
    "      nx_elist.append(((x,y),(x-1,y),np.round(weight,2)))\n",
    "      if min_weight>weight:min_weight=weight\n",
    "      if max_weight<weight:max_weight=weight\n",
    "    if y > 0:\n",
    "      j = x*w + y-1\n",
    "      # weight = np.exp(-dist.euclidean([gray_img[x,y]], [gray_img[x,y-1]])**2 / (2*sigma**2))\n",
    "      weight = 1-np.exp(-((gray_img[x,y] - gray_img[x,y-1])**2) / (2 * sigma**2))\n",
    "      edges.append((i, j, weight))\n",
    "      nx_elist.append(((x,y),(x,y-1),np.round(weight,2)))\n",
    "      if min_weight>weight:min_weight=weight\n",
    "      if max_weight<weight:max_weight=weight\n",
    "  a=-1\n",
    "  b=1\n",
    "  min_weight = 1-np.exp(-((1 - 1)**2) / (2 * 0.5**2))\n",
    "  max_weight = 1-np.exp(-((1 - 0)**2) / (2 * 0.5**2))\n",
    "  normalized_edges = [(node1,node2,-1*np.round(((b-a)*((edge_weight-min_weight)/(max_weight-min_weight)))+a,2)) for node1,node2,edge_weight in edges]\n",
    "  normalized_nx_elist = [(node1,node2,-1*np.round(((b-a)*((edge_weight-min_weight)/(max_weight-min_weight)))+a,2)) for node1,node2,edge_weight in nx_elist]\n",
    "  return nodes, edges, nx_elist, normalized_edges, normalized_nx_elist\n",
    "\n",
    "\n",
    "\n",
    "pixel_values, elist, nx_elist, normalized_elist, normalized_nx_elist = image_to_grid_graph(image)\n",
    "\n",
    "pixel_values, elist, nx_elist, normalized_elist, normalized_nx_elist"
   ]
  },
  {
   "cell_type": "code",
   "execution_count": 47,
   "metadata": {},
   "outputs": [],
   "source": [
    "# G = nx.grid_2d_graph(image.shape[0], image.shape[1])\n",
    "\n",
    "# # G.add_weighted_edges_from()\n",
    "# G.add_weighted_edges_from(normalized_nx_elist)\n",
    "# # G.add_weighted_edges_from(nx_elist)\n",
    "\n",
    "\n",
    "\n",
    "# def draw(G):\n",
    "#   plt.figure(figsize=(6,6))\n",
    "#   default_axes = plt.axes(frameon=True)\n",
    "#   pos = {(x,y):(y,-x) for x,y in G.nodes()}\n",
    "#   print(\"Pos:\",pos)\n",
    "#   nx.draw_networkx(G,\n",
    "#                   pos=pos,\n",
    "#                   node_color=1-pixel_values,\n",
    "#                   with_labels=True,\n",
    "#                   node_size=3000,\n",
    "#                   cmap=plt.cm.Greys,\n",
    "#                   alpha=1,\n",
    "#                   ax=default_axes)\n",
    "#   nodes = nx.draw_networkx_nodes(G, pos, node_color=1-pixel_values,\n",
    "#                   node_size=3000,\n",
    "#                   cmap=plt.cm.Greys)\n",
    "#   nodes.set_edgecolor('k')\n",
    "#   edge_labels = nx.get_edge_attributes(G, \"weight\")\n",
    "#   print(edge_labels)\n",
    "#   nx.draw_networkx_edge_labels(G,\n",
    "#                               pos=pos,\n",
    "#                               edge_labels=edge_labels,\n",
    "#                               font_size=20)\n",
    "#   plt.axis('off')\n",
    "#   plt.savefig(\"2x2_graph.jpg\", dpi=600, bbox_inches='tight', pad_inches=1)\n",
    "#   # plt.savefig(\"2x2_graph.jpg\", dpi=600, pad_inches=1)\n",
    "# draw(G)"
   ]
  },
  {
   "cell_type": "code",
   "execution_count": 48,
   "metadata": {},
   "outputs": [
    {
     "name": "stdout",
     "output_type": "stream",
     "text": [
      "Pos: {(0, 0): (0, 0), (0, 1): (1, 0), (1, 0): (0, -1), (1, 1): (1, -1)}\n",
      "{((0, 0), (1, 0)): 1.0, ((0, 0), (0, 1)): -0.11, ((0, 1), (1, 1)): 0.95, ((1, 0), (1, 1)): 0.26}\n"
     ]
    },
    {
     "data": {
      "image/png": "[encoded data removed]",
      "text/plain": [
       "<Figure size 600x600 with 1 Axes>"
      ]
     },
     "metadata": {},
     "output_type": "display_data"
    }
   ],
   "source": [
    "# Create the grid graph\n",
    "G = nx.grid_2d_graph(image.shape[0], image.shape[1])\n",
    "G.add_weighted_edges_from(normalized_nx_elist)  # Assuming this list is defined\n",
    "def draw(G):\n",
    "    plt.figure(figsize=(6,6))\n",
    "    default_axes = plt.axes(frameon=True)\n",
    "    pos = {(x,y):(y,-x) for x,y in G.nodes()}\n",
    "    # Mapping from node positions to labels v_1, v_2, v_3, v_4\n",
    "    labels = {(0, 0): r'$v_1$', (0, 1): r'$v_2$', (1, 0): r'$v_3$', (1, 1): r'$v_4$'}\n",
    "    print(\"Pos:\", pos)\n",
    "  \n",
    "    # Draw the graph using the position and custom labels\n",
    "    nx.draw_networkx(G,\n",
    "                     pos=pos, with_labels=False)\n",
    "    nodes = nx.draw_networkx_nodes(G, pos, node_color=1-np.ravel(image),\n",
    "                                   node_size=3000,\n",
    "                                   cmap=plt.cm.Greys)\n",
    "    nx.draw_networkx_labels(G, pos, labels, font_size=30, font_color='grey', ax=default_axes)\n",
    "    nodes.set_edgecolor('k')\n",
    "    edge_labels = nx.get_edge_attributes(G, \"weight\")\n",
    "    print(edge_labels)\n",
    "    nx.draw_networkx_edge_labels(G,\n",
    "                                 pos=pos,\n",
    "                                 edge_labels=edge_labels,\n",
    "                                 font_size=20,\n",
    "                                 font_color='black')\n",
    "    plt.axis('off')\n",
    "    plt.savefig(\"2x2_graph_v3.jpg\", dpi=600, bbox_inches='tight', pad_inches=0)\n",
    "draw(G)"
   ]
  },
  {
   "cell_type": "code",
   "execution_count": null,
   "metadata": {},
   "outputs": [],
   "source": [
    "# Create the grid graph\n",
    "G = nx.grid_2d_graph(image.shape[0], image.shape[1])\n",
    "G.add_weighted_edges_from(normalized_nx_elist)  # Assuming this list is defined\n",
    "def draw(G):\n",
    "    plt.figure(figsize=(6,6))\n",
    "    default_axes = plt.axes(frameon=True)\n",
    "    pos = {(x,y):(y,-x) for x,y in G.nodes()}\n",
    "    # Mapping from node positions to labels v_1, v_2, v_3, v_4\n",
    "    labels = {(0, 0): r'$v_1$', (0, 1): r'$v_2$', (1, 0): r'$v_3$', (1, 1): r'$v_4$'}\n",
    "    print(\"Pos:\", pos)\n",
    "  \n",
    "    # Draw the graph using the position and custom labels\n",
    "    nx.draw_networkx(G,\n",
    "                     pos=pos, with_labels=False)\n",
    "    nodes = nx.draw_networkx_nodes(G, pos, node_color=1-np.ravel(image),\n",
    "                                   node_size=3000,\n",
    "                                   cmap=plt.cm.Greys)\n",
    "    nx.draw_networkx_labels(G, pos, labels, font_size=30, font_color='grey', ax=default_axes)\n",
    "    nodes.set_edgecolor('k')\n",
    "    edge_labels = nx.get_edge_attributes(G, \"weight\")\n",
    "    print(edge_labels)\n",
    "    nx.draw_networkx_edge_labels(G,\n",
    "                                 pos=pos,\n",
    "                                 edge_labels=edge_labels,\n",
    "                                 font_size=20,\n",
    "                                 font_color='black')\n",
    "    plt.axis('off')\n",
    "    plt.savefig(\"2x2_graph_v3.jpg\", dpi=600, bbox_inches='tight', pad_inches=0)\n",
    "draw(G)"
   ]
  },
  {
   "cell_type": "code",
   "execution_count": 55,
   "metadata": {},
   "outputs": [
    {
     "data": {
      "image/png": "[encoded data removed]",
      "text/plain": [
       "<Figure size 1200x600 with 1 Axes>"
      ]
     },
     "metadata": {},
     "output_type": "display_data"
    }
   ],
   "source": [
    "import matplotlib.pyplot as plt\n",
    "\n",
    "# Defining the 8 possible binary values with 3 digits\n",
    "bin_labels = ['|000⟩', '|001⟩', '|010⟩', '|011⟩', '|100⟩', '|101⟩', '|110⟩', '|111⟩']\n",
    "\n",
    "# Generating random sample data for demonstration, ensuring it's within 0 to 1\n",
    "sample_values = [0.1, 0.2, 0.15, 0.05, 0.1, 0.21, 0.15, 0.1]\n",
    "\n",
    "# Creating the histogram\n",
    "plt.figure(figsize=(12, 6))\n",
    "plt.bar(bin_labels, sample_values, color='skyblue')\n",
    "\n",
    "# Setting the axis labels and title\n",
    "# plt.xlabel('Basis states', fontsize=18)  # Set font size for x-axis label\n",
    "# plt.ylabel('Frequency', fontsize=18)\n",
    "# plt.title('Measurement', fontsize=26)\n",
    "\n",
    "# Setting font size for x-ticks\n",
    "\n",
    "plt.xticks(fontsize=24)  # Set font size for x-ticks\n",
    "\n",
    "# Hide the y-ticks\n",
    "plt.yticks([])\n",
    "\n",
    "# Show plot\n",
    "plt.show()\n"
   ]
  },
  {
   "cell_type": "code",
   "execution_count": null,
   "metadata": {},
   "outputs": [],
   "source": []
  }
 ],
 "metadata": {
  "kernelspec": {
   "display_name": "venv",
   "language": "python",
   "name": "python3"
  },
  "language_info": {
   "codemirror_mode": {
    "name": "ipython",
    "version": 3
   },
   "file_extension": ".py",
   "mimetype": "text/x-python",
   "name": "python",
   "nbconvert_exporter": "python",
   "pygments_lexer": "ipython3",
   "version": "3.10.11"
  }
 },
 "nbformat": 4,
 "nbformat_minor": 2
}
