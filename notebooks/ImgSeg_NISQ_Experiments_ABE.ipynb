{
  "cells": [
    {
      "cell_type": "markdown",
      "metadata": {
        "id": "IqDbe7zClcdo"
      },
      "source": [
        "#### Ancilla Basis Encoding (ABE)"
      ]
    },
    {
      "cell_type": "code",
      "execution_count": null,
      "metadata": {
        "id": "hSzfRUk7wGil"
      },
      "outputs": [],
      "source": [
        "from qiskit import Aer, execute\n",
        "import numpy as np"
      ]
    },
    {
      "cell_type": "code",
      "execution_count": null,
      "metadata": {
        "id": "9ND2Ty507VpP"
      },
      "outputs": [],
      "source": [
        "from qiskit.circuit import ParameterVector"
      ]
    },
    {
      "cell_type": "code",
      "execution_count": null,
      "metadata": {
        "id": "uL7RlivtrNpu"
      },
      "outputs": [],
      "source": [
        "from qiskit import QuantumCircuit\n",
        "from math import log2, ceil"
      ]
    },
    {
      "cell_type": "code",
      "execution_count": null,
      "metadata": {},
      "outputs": [],
      "source": [
        "def get_circuit(nq, n_layers):\n",
        "  theta = ParameterVector('θ', length=nq*n_layers)\n",
        "  qc = QuantumCircuit(nq)\n",
        "  qc.h(range(nq))\n",
        "\n",
        "  for layer_i in range(n_layers):\n",
        "    # if layer_i%2:\n",
        "    for qubit_i in range(nq - 1):\n",
        "      qc.cx(qubit_i, (qubit_i + 1)%nq)\n",
        "    for qubit_i in range(nq):\n",
        "      qc.ry(theta[(nq*layer_i)+qubit_i], qubit_i)\n",
        "  return qc"
      ]
    },
    {
      "cell_type": "code",
      "execution_count": null,
      "metadata": {
        "id": "lfjhMWsyljcp"
      },
      "outputs": [],
      "source": [
        "def get_projectors(probabilities, n_c):\n",
        "  P = [0] * n_c\n",
        "  P1 = [0] * n_c\n",
        "  for k, v in probabilities.items():\n",
        "    index = int(k[1:], 2)\n",
        "    P[index] += v\n",
        "    if k[0] == '1':\n",
        "      P1[index] += v\n",
        "  return P, P1\n",
        "\n",
        "def objective_value(x: np.ndarray, w: np.ndarray) -> float:\n",
        "    cost = 0\n",
        "    for i in range(len(x)):\n",
        "        for j in range(len(x)):\n",
        "            cost = cost + w[i,j]*x[i]*(1-x[j])\n",
        "    return cost\n",
        "\n",
        "def evaluate_cost(params, circuit, qubo_matrix):\n",
        "  global ultimate_valid_probabilities\n",
        "  global penultimate_valid_probabilities\n",
        "  global optimization_iteration_count\n",
        "  global n_shots\n",
        "  optimization_iteration_count += 1\n",
        "  # Create a copy of the circuit to avoid modifying the original\n",
        "  working_circuit = circuit.copy()\n",
        "  # Apply measurements\n",
        "  working_circuit.measure_all()\n",
        "  # Bind the parameters to the circuit\n",
        "  bound_circuit = working_circuit.assign_parameters(params)\n",
        "  # Run the circuit on a simulator\n",
        "  simulator = Aer.get_backend('qasm_simulator')\n",
        "  job = execute(bound_circuit, simulator, shots=n_shots)\n",
        "  result = job.result()\n",
        "  counts = result.get_counts()\n",
        "  # Compute the probabilities of the states\n",
        "  probabilities = {state: counts[state] / n_shots for state in counts}\n",
        "  n_c = 2**(len(list(probabilities.keys())[0])-1)\n",
        "  P, P1 = get_projectors(probabilities, n_c)\n",
        "  if 0 in P:\n",
        "    return 100000\n",
        "  else:\n",
        "    # Update the last valid probabilities\n",
        "    penultimate_valid_probabilities = ultimate_valid_probabilities.copy()\n",
        "    ultimate_valid_probabilities = probabilities.copy()\n",
        "  cost = 0\n",
        "  for i in range(len(qubo_matrix)):\n",
        "    for j in range(len(qubo_matrix)):\n",
        "      if i==j:\n",
        "        cost += qubo_matrix[i][j] * P1[i]/P[i]\n",
        "      else:\n",
        "        cost += (qubo_matrix[i][j]*P1[i]*P1[j])/(P[i]*P[j])\n",
        "  # print('min_cut_cost :', min_cut_cost)\n",
        "  print(f'@ Iteration {optimization_iteration_count} Cost :',cost)\n",
        "  return cost\n",
        "\n",
        "def get_final_measurement_binary_string(circuit, params):\n",
        "  working_circuit = circuit.copy()\n",
        "  working_circuit.measure_all()\n",
        "  bound_circuit = working_circuit.assign_parameters(params)\n",
        "  simulator = Aer.get_backend('qasm_simulator')\n",
        "  job = execute(bound_circuit, simulator, shots=1024)\n",
        "  result = job.result()\n",
        "  counts = result.get_counts()\n",
        "  probabilities = {state: counts[state] / 1024 for state in counts}\n",
        "  return probabilities\n",
        "\n",
        "def decode_probabilities(probabilities):\n",
        "  binary_solution = []\n",
        "  n_r = len(list(probabilities.keys())[0])-1\n",
        "  n_c = 2**(n_r)\n",
        "  for i in range(n_c):\n",
        "    if '0' + format(i, 'b').zfill(n_r) in probabilities and '1' + format(i, 'b').zfill(n_r) in probabilities:\n",
        "      if probabilities['0' + format(i, 'b').zfill(n_r)] > probabilities['1' + format(i, 'b').zfill(n_r)]:\n",
        "        binary_solution.append(0)\n",
        "      else:\n",
        "        binary_solution.append(1)\n",
        "    elif '0' + format(i, 'b').zfill(n_r) in probabilities:\n",
        "      binary_solution.append(0)\n",
        "    elif '1' + format(i, 'b').zfill(n_r) in probabilities:\n",
        "      binary_solution.append(1)\n",
        "  return binary_solution\n",
        "\n",
        "def decode_binary_string(x, height, width):\n",
        "  mask = np.zeros([height, width])\n",
        "  for index,segment in enumerate(x):\n",
        "    mask[index//width,index%width]=segment\n",
        "  return mask"
      ]
    },
    {
      "cell_type": "code",
      "execution_count": null,
      "metadata": {
        "id": "IXTiq8k1dvjp"
      },
      "outputs": [],
      "source": [
        "# x_1 = 'basis state of the ancilla qubit whose register qubits are in the state (00) with high probability' = 1\n",
        "# x_2 = 'basis state of the ancilla qubit whose register qubits are in the state (01) with high probability' = 1\n",
        "# x_3 = 'basis state of the ancilla qubit whose register qubits are in the state (10) with high probability' = 0\n",
        "# x_4 = 'basis state of the ancilla qubit whose register qubits are in the state (11) with high probability' = 0"
      ]
    },
    {
      "cell_type": "code",
      "execution_count": null,
      "metadata": {
        "id": "VFdTy6FvljZv"
      },
      "outputs": [],
      "source": [
        "def ancilla_basis_encoding(G, initial_params, n_layers = 1, optimizer_method = 'COBYLA'):\n",
        "  w = nx.adjacency_matrix(G).todense()\n",
        "  max_cut = Maxcut(-w)\n",
        "  qp = max_cut.to_quadratic_program()\n",
        "  linear = qp.objective.linear.coefficients.toarray(order=None, out=None)\n",
        "  quadratic = qp.objective.quadratic.coefficients.toarray(order=None, out=None)\n",
        "  linear = {int(idx):-round(value,2) for idx,value in enumerate(linear[0])}\n",
        "  quadratic = {(int(iy),int(ix)):-quadratic[iy, ix] for iy, ix in np.ndindex(quadratic.shape) if iy<ix and abs(quadratic[iy, ix])!=0}\n",
        "  nc = len(linear)\n",
        "  nr = ceil(log2(nc))\n",
        "  nq = nr + 1\n",
        "  qc = get_circuit(nq, n_layers)\n",
        "  global ultimate_valid_probabilities\n",
        "  global penultimate_valid_probabilities\n",
        "  global optimization_iteration_count\n",
        "  ultimate_valid_probabilities = []\n",
        "  penultimate_valid_probabilities = []\n",
        "  optimization_iteration_count = 0\n",
        "  options = {}\n",
        "  optimization_result = minimize(\n",
        "      fun=evaluate_cost,\n",
        "      x0=initial_params,\n",
        "      args=(qc, w),\n",
        "      method=optimizer_method,\n",
        "      bounds=tuple([(-np.pi, np.pi) for _ in range(len(initial_params))]),\n",
        "      options=options)\n",
        "  if not len(ultimate_valid_probabilities):\n",
        "    return False, [0]*nc, 0, 0, [0]*initial_params\n",
        "  binary_string_solution = decode_probabilities(ultimate_valid_probabilities)\n",
        "  minimization_cost = optimization_result.fun\n",
        "  optimal_params = optimization_result.x\n",
        "  cut_cost = 0\n",
        "  cut_cost = objective_value(np.array(list(map(int,binary_string_solution))), w)\n",
        "  return optimization_result.success, binary_string_solution, minimization_cost, cut_cost, optimal_params\n"
      ]
    },
    {
      "cell_type": "code",
      "execution_count": null,
      "metadata": {},
      "outputs": [],
      "source": [
        "from scipy.optimize import differential_evolution"
      ]
    },
    {
      "cell_type": "code",
      "execution_count": null,
      "metadata": {},
      "outputs": [],
      "source": [
        "def ancilla_basis_encoding_de(G, initial_params, n_layers = 1):\n",
        "  w = nx.adjacency_matrix(G).todense()\n",
        "  max_cut = Maxcut(-w)\n",
        "  qp = max_cut.to_quadratic_program()\n",
        "  linear = qp.objective.linear.coefficients.toarray(order=None, out=None)\n",
        "  quadratic = qp.objective.quadratic.coefficients.toarray(order=None, out=None)\n",
        "  linear = {int(idx):-round(value,2) for idx,value in enumerate(linear[0])}\n",
        "  quadratic = {(int(iy),int(ix)):-quadratic[iy, ix] for iy, ix in np.ndindex(quadratic.shape) if iy<ix and abs(quadratic[iy, ix])!=0}\n",
        "  nc = len(linear)\n",
        "  nr = ceil(log2(nc))\n",
        "  nq = nr + 1\n",
        "  qc = get_circuit(nq, n_layers)\n",
        "  global ultimate_valid_probabilities\n",
        "  global penultimate_valid_probabilities\n",
        "  global optimization_iteration_count\n",
        "  ultimate_valid_probabilities = []\n",
        "  penultimate_valid_probabilities = []\n",
        "  optimization_iteration_count = 0\n",
        "  \n",
        "  optimization_result = differential_evolution(\n",
        "      func=evaluate_cost,\n",
        "      args = (qc, w),\n",
        "      bounds=tuple([(-np.pi, np.pi) for _ in range(len(initial_params))])\n",
        "      )\n",
        "  if not len(ultimate_valid_probabilities):\n",
        "    return False, [0]*nc, 0, 0, [0]*initial_params\n",
        "  binary_string_solution = decode_probabilities(ultimate_valid_probabilities)\n",
        "  minimization_cost = optimization_result.fun\n",
        "  optimal_params = optimization_result.x\n",
        "  cut_cost = 0\n",
        "  cut_cost = objective_value(np.array(list(map(int,binary_string_solution))), w)\n",
        "  return optimization_result.success, binary_string_solution, minimization_cost, cut_cost, optimal_params\n"
      ]
    },
    {
      "cell_type": "markdown",
      "metadata": {},
      "source": [
        "#### Experiments for Minimal Encoding"
      ]
    },
    {
      "cell_type": "code",
      "execution_count": null,
      "metadata": {},
      "outputs": [],
      "source": [
        "n_shots = 65536\n",
        "\n",
        "ultimate_valid_probabilities = []\n",
        "penultimate_valid_probabilities = []\n",
        "\n",
        "optimization_iteration_count = 0\n"
      ]
    },
    {
      "cell_type": "code",
      "execution_count": null,
      "metadata": {},
      "outputs": [],
      "source": [
        "base_path = './'\n",
        "\n",
        "start_layers = 1\n",
        "max_layers = 5\n",
        "initial_params_seed = 123\n",
        "scipy_optimizer_methods = [\"COBYLA\", \"Powell\", \"CG\", \"BFGS\", \"L-BFGS-B\", \"SLSQP\"]\n",
        "\n",
        "\n",
        "heights = [2,4]\n",
        "\n",
        "seeds = [111,222,333,444,555]\n",
        "seeds"
      ]
    },
    {
      "cell_type": "code",
      "execution_count": null,
      "metadata": {
        "id": "dC2NqX3krgP5"
      },
      "outputs": [],
      "source": [
        "for seed in seeds:\n",
        "  report_filename = base_path + 'AncillaBasisStateEncoding_' +  str(seed) + '_' + str(n_shots) + '.txt'\n",
        "  for height in heights:\n",
        "    width = height\n",
        "    print(f'height: {height}, width: {width}, n: {height*width}')\n",
        "    # G, image = generate_binary_problem_instance(height, width)\n",
        "    np.random.seed(seed=seed)\n",
        "    G, image = generate_problem_instance(height, width)\n",
        "    print(\"Image Generated: \",image)\n",
        "    # plt.imshow(image, cmap=plt.cm.gray)\n",
        "    # plt.show()\n",
        "\n",
        "    for scipy_optimizer_method in scipy_optimizer_methods:\n",
        "      print(\"Maximum number of layers :\", max_layers)\n",
        "      for n_layers in range(start_layers, max_layers+1,1):\n",
        "        nc = len(G.nodes())\n",
        "        nr = ceil(log2(nc))\n",
        "        nq = nr + 1\n",
        "        initial_params = np.random.uniform(low=-np.pi, high=np.pi, size=nq*n_layers)\n",
        "        print(f\"Executing QC with {n_layers} layers and {scipy_optimizer_method} optimizer for {height}*{height} image.\")\n",
        "        # try:\n",
        "        start_time = time.time()\n",
        "        success_flag, minimal_encoding_solution, minimal_encoding_value, minimal_encoding_cut_value, optimal_params = ancilla_basis_encoding_de(G,\n",
        "                                                                                                                      initial_params,\n",
        "                                                                                                                      n_layers = n_layers,\n",
        "                                                                                                                      optimizer_method = scipy_optimizer_method)\n",
        "        minimal_encoding_tte = (time.time() - start_time)\n",
        "        print(\"New NISQ done for\",scipy_optimizer_method,\"optimizer with a success status :\", success_flag)\n",
        "        print(f\"Appending the results of {height}*{height} image using QC with {n_layers} layers and {scipy_optimizer_method} optimizer.\")\n",
        "        row = []\n",
        "        row.append(int(G.number_of_nodes()))\n",
        "        row.append(int(height))\n",
        "        row.append(int(width))\n",
        "        row.append(success_flag)\n",
        "        row.append(''.join(map(str, map(int, (minimal_encoding_solution)))))\n",
        "        row.append(np.round(minimal_encoding_tte,6))\n",
        "        row.append(n_layers)\n",
        "        row.append(np.round(minimal_encoding_cut_value,4))\n",
        "        row.append(np.round(minimal_encoding_value,4))\n",
        "        row.append(optimization_iteration_count)\n",
        "        row.append(scipy_optimizer_method)\n",
        "        # row.append(''.join(map(str, map(float, (optimal_params)))))\n",
        "        report_file_obj = open(os.path.join(report_filename),'a+')\n",
        "        report_file_obj.write('__'.join(map(str,row))+'\\n')\n",
        "        report_file_obj.close()\n",
        "    print('\\n')"
      ]
    },
    {
      "cell_type": "code",
      "execution_count": null,
      "metadata": {},
      "outputs": [],
      "source": [
        "def truncate_long_string(s, max_length=20):\n",
        "    return s if len(s) <= max_length else s[:max_length] + \"...\"\n",
        "\n",
        "def style_df(df):\n",
        "    # Styles for hover and headers\n",
        "    cell_hover = {'selector': 'tr:hover', 'props': [('background-color', '#707070')]}  # Dark pale color for hover\n",
        "    headers = {'selector': 'th', 'props': 'background-color: #1D1D1D; color: white;'}\n",
        "\n",
        "    # Column separator style\n",
        "    column_separator = {'selector': 'td, th', 'props': 'border-right: 1px solid white;'}\n",
        "\n",
        "    # Apply the styles\n",
        "    styled_df = df.style.set_table_styles([cell_hover, headers, column_separator])\n",
        "\n",
        "    # Style to hide the border for the last column to prevent a double line at the end of the table\n",
        "    hide_last_border = {'selector': 'td:last-child, th:last-child', 'props': 'border-right: none;'}\n",
        "\n",
        "    # Combine all styles\n",
        "    styles = [cell_hover, headers, column_separator, hide_last_border]\n",
        "    styled_df = styled_df.set_table_styles(styles, overwrite=False)\n",
        "\n",
        "    return styled_df"
      ]
    },
    {
      "cell_type": "code",
      "execution_count": null,
      "metadata": {},
      "outputs": [],
      "source": [
        "seed = 111"
      ]
    },
    {
      "cell_type": "code",
      "execution_count": null,
      "metadata": {},
      "outputs": [],
      "source": [
        "base_path = './'\n",
        "report_filename = base_path + 'minimalEncoding_' +  str(seed) + '_' + str(65536) + '.txt'\n",
        "report_file_obj = open(report_filename,'r')\n",
        "table_contents = [line.replace('\\n','').split('__') for line in report_file_obj.readlines()]\n",
        "\n",
        "base_cols = ['No. of Pixels', 'Height', 'Width']\n",
        "sub_cols = ['','','']\n",
        "\n",
        "extra_sub_cols = ['Optimization Success','Result', 'TTE', 'Layers', 'Min-Cut Cost', 'Optimization Cost', 'Iterations', 'Optimizer Method']\n",
        "base_cols = base_cols+['Minimal Encoding Solver']*len(extra_sub_cols)\n",
        "sub_cols=sub_cols+extra_sub_cols\n",
        "\n",
        "column_arrays = [base_cols, sub_cols]\n",
        "\n",
        "df = pd.DataFrame(table_contents, columns=pd.MultiIndex.from_arrays(column_arrays))\n",
        "\n",
        "for col in df.columns:\n",
        "  if len(col) == 2 and col[1] == 'Result':\n",
        "    df[col] = df[col].apply(lambda x: truncate_long_string(x))\n",
        "\n",
        "styled_df = style_df(df)#.apply(highlight_row, axis=1)\n",
        "\n",
        "\n",
        "\n",
        "\n",
        "styled_df"
      ]
    }
  ],
  "metadata": {
    "colab": {
      "collapsed_sections": [
        "etaCXXCaEX1h",
        "FIIH27AZERXD",
        "-qstUcHjD16P",
        "9oXP6la6icxT",
        "2pPiM0ePig7A",
        "pePrU6XBikMV",
        "pAyb7qZ3iqzN",
        "X7JccFLY8tnr",
        "oNJMb9PMiu1S",
        "o1j3DrZFoaWG",
        "3TY83OitQNIm",
        "eR_WVGyZQQIE",
        "smXhk33Afk9L",
        "oCiGtxaIDp15"
      ],
      "provenance": []
    },
    "kernelspec": {
      "display_name": "Python 3",
      "name": "python3"
    },
    "language_info": {
      "codemirror_mode": {
        "name": "ipython",
        "version": 3
      },
      "file_extension": ".py",
      "mimetype": "text/x-python",
      "name": "python",
      "nbconvert_exporter": "python",
      "pygments_lexer": "ipython3",
      "version": "3.10.11"
    }
  },
  "nbformat": 4,
  "nbformat_minor": 0
}
