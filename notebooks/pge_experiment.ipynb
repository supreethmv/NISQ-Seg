{
 "cells": [
  {
   "cell_type": "code",
   "execution_count": null,
   "metadata": {},
   "outputs": [],
   "source": [
    "from src.graph_utils import *\n",
    "from src.pge import *\n",
    "import time\n",
    "import os"
   ]
  },
  {
   "cell_type": "code",
   "execution_count": null,
   "metadata": {},
   "outputs": [],
   "source": [
    "heights = [2,4,8]\n",
    "\n",
    "scipy_optimizer_methods = [\"COBYLA\", \"Powell\", \"CG\", \"BFGS\", \"L-BFGS-B\", \"SLSQP\", \"Genetic\"]\n",
    "\n",
    "initial_params_seed = 123\n",
    "\n",
    "optimization_iteration_count = 0\n",
    "\n",
    "base_path = 'results/'\n",
    "\n",
    "seeds = [111, 222,333,444,555]"
   ]
  },
  {
   "cell_type": "code",
   "execution_count": null,
   "metadata": {},
   "outputs": [],
   "source": [
    "for seed in seeds:\n",
    "  report_filename = base_path + 'ParameterEncoding_' +  str(seed) + '.txt'\n",
    "  for height in heights:\n",
    "    width = height\n",
    "    print(f'height: {height}, width: {width}, n: {height*width}')\n",
    "    np.random.seed(seed=seed)\n",
    "    G, image = generate_problem_instance(height, width)\n",
    "    print(\"Image Generated: \",image)\n",
    "    # plt.imshow(image, cmap=plt.cm.gray)\n",
    "    # plt.show()\n",
    "  \n",
    "    for optimizer_method in scipy_optimizer_methods:\n",
    "      print(f\"Executing QC with {optimizer_method} optimizer for {height}*{height} image.\")\n",
    "      try:\n",
    "        start_time = time.time()\n",
    "        success_flag, new_nisq_solution, new_nisq_expectation_value, new_nisq_cut_value = new_nisq_algo_solver(G, \n",
    "                                                                                                               optimizer_method = optimizer_method, \n",
    "                                                                                                               initial_params_seed=initial_params_seed)\n",
    "        new_nisq_tte = (time.time() - start_time)\n",
    "        print(new_nisq_solution, new_nisq_expectation_value, new_nisq_cut_value)\n",
    "      except:\n",
    "        print(f\"Execution Failed for {optimizer_method} optimizer for {height}*{height} image.\")\n",
    "        continue\n",
    "      print(\"New NISQ done for\",optimizer_method,\"optimizer with a success status :\", success_flag)\n",
    "      print(f\"Appending the results of {height}*{height} image using QC with and {optimizer_method} optimizer.\")\n",
    "      row = []\n",
    "      row.append(int(G.number_of_nodes()))\n",
    "      row.append(int(height))\n",
    "      row.append(int(width))\n",
    "      row.append(success_flag)\n",
    "      row.append(''.join(map(str, map(int, (new_nisq_solution)))))\n",
    "      row.append(np.round(new_nisq_tte,6))\n",
    "      row.append(np.round(new_nisq_cut_value,4))\n",
    "      row.append(np.round(new_nisq_expectation_value,4))\n",
    "      row.append(optimization_iteration_count)\n",
    "      row.append(optimizer_method)\n",
    "      report_file_obj = open(os.path.join(report_filename),'a+')\n",
    "      report_file_obj.write('__'.join(map(str,row))+'\\n')\n",
    "      report_file_obj.close()\n",
    "    print('\\n')"
   ]
  }
 ],
 "metadata": {
  "language_info": {
   "name": "python"
  }
 },
 "nbformat": 4,
 "nbformat_minor": 2
}
